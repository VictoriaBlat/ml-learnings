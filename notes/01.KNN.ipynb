{
 "cells": [
  {
   "cell_type": "code",
   "execution_count": null,
   "metadata": {},
   "outputs": [],
   "source": [
    "#Das Model merkt sich die Daten 1:1\n",
    "#-es werden die Distanzen berechnet\n",
    "#-eine Möglichkeit hierfür ist die Euklidische Distanz //nicht gut wenn wir viele Dimensionen (punkte?) haben\n",
    "#-Manhattan distanz // kann in einem hochdimensionalen Modell gut funktionieren"
   ]
  },
  {
   "cell_type": "code",
   "execution_count": 1,
   "metadata": {},
   "outputs": [
    {
     "name": "stdout",
     "output_type": "stream",
     "text": [
      "0.65625\n"
     ]
    }
   ],
   "source": [
    "import pandas as pd\n",
    "import numpy as np\n",
    "import seaborn as sns\n",
    "\n",
    "df=pd.read_csv(\"../data/Diabetes/diabetes.csv\")\n",
    "\n",
    "from sklearn.neighbors import KNeighborsClassifier\n",
    "from sklearn.model_selection import train_test_split\n",
    "\n",
    "X=df[[\"BMI\",\"Age\"]]\n",
    "y=df[\"Outcome\"]\n",
    "\n",
    "X_train, X_test, y_train, y_test=train_test_split(X,y)\n",
    "\n",
    "\n",
    "model= KNeighborsClassifier(n_neighbors=15)\n",
    "\n",
    "##wichtige parameter: weights\n",
    "##p -art der Distanzberechnung/ euklidisch,manhattan etc.\n",
    "model.fit(X_train,y_train)\n",
    "\n",
    "print(model.score(X_test,y_test))"
   ]
  },
  {
   "cell_type": "code",
   "execution_count": 2,
   "metadata": {},
   "outputs": [
    {
     "name": "stdout",
     "output_type": "stream",
     "text": [
      "[[0.6 0.4]\n",
      " [0.6 0.4]\n",
      " [0.8 0.2]\n",
      " [0.6 0.4]\n",
      " [0.2 0.8]\n",
      " [1.  0. ]\n",
      " [0.6 0.4]\n",
      " [0.4 0.6]\n",
      " [1.  0. ]\n",
      " [0.4 0.6]\n",
      " [0.4 0.6]\n",
      " [0.4 0.6]\n",
      " [0.4 0.6]\n",
      " [1.  0. ]\n",
      " [0.2 0.8]\n",
      " [0.6 0.4]\n",
      " [0.8 0.2]\n",
      " [0.4 0.6]\n",
      " [0.8 0.2]\n",
      " [0.4 0.6]\n",
      " [0.6 0.4]\n",
      " [0.8 0.2]\n",
      " [0.8 0.2]\n",
      " [0.6 0.4]\n",
      " [0.2 0.8]\n",
      " [0.8 0.2]\n",
      " [0.8 0.2]\n",
      " [1.  0. ]\n",
      " [0.8 0.2]\n",
      " [0.4 0.6]\n",
      " [0.4 0.6]\n",
      " [1.  0. ]\n",
      " [0.8 0.2]\n",
      " [0.6 0.4]\n",
      " [0.2 0.8]\n",
      " [0.8 0.2]\n",
      " [1.  0. ]\n",
      " [0.8 0.2]\n",
      " [1.  0. ]\n",
      " [0.6 0.4]\n",
      " [0.2 0.8]\n",
      " [0.6 0.4]\n",
      " [1.  0. ]\n",
      " [1.  0. ]\n",
      " [0.6 0.4]\n",
      " [1.  0. ]\n",
      " [1.  0. ]\n",
      " [0.6 0.4]\n",
      " [1.  0. ]\n",
      " [0.8 0.2]\n",
      " [0.8 0.2]\n",
      " [0.2 0.8]\n",
      " [0.4 0.6]\n",
      " [0.6 0.4]\n",
      " [0.4 0.6]\n",
      " [0.8 0.2]\n",
      " [0.8 0.2]\n",
      " [0.4 0.6]\n",
      " [0.8 0.2]\n",
      " [0.4 0.6]\n",
      " [1.  0. ]\n",
      " [0.6 0.4]\n",
      " [0.8 0.2]\n",
      " [1.  0. ]\n",
      " [0.4 0.6]\n",
      " [0.8 0.2]\n",
      " [1.  0. ]\n",
      " [0.4 0.6]\n",
      " [0.4 0.6]\n",
      " [1.  0. ]\n",
      " [1.  0. ]\n",
      " [0.6 0.4]\n",
      " [0.8 0.2]\n",
      " [0.6 0.4]\n",
      " [0.2 0.8]\n",
      " [0.6 0.4]\n",
      " [1.  0. ]\n",
      " [0.8 0.2]\n",
      " [0.6 0.4]\n",
      " [0.8 0.2]\n",
      " [1.  0. ]\n",
      " [1.  0. ]\n",
      " [1.  0. ]\n",
      " [1.  0. ]\n",
      " [1.  0. ]\n",
      " [0.4 0.6]\n",
      " [0.8 0.2]\n",
      " [1.  0. ]\n",
      " [0.4 0.6]\n",
      " [0.6 0.4]\n",
      " [0.4 0.6]\n",
      " [0.4 0.6]\n",
      " [1.  0. ]\n",
      " [1.  0. ]\n",
      " [1.  0. ]\n",
      " [0.4 0.6]\n",
      " [0.4 0.6]\n",
      " [0.6 0.4]\n",
      " [1.  0. ]\n",
      " [1.  0. ]\n",
      " [0.6 0.4]\n",
      " [1.  0. ]\n",
      " [0.4 0.6]\n",
      " [0.4 0.6]\n",
      " [0.  1. ]\n",
      " [0.2 0.8]\n",
      " [0.8 0.2]\n",
      " [0.2 0.8]\n",
      " [0.4 0.6]\n",
      " [1.  0. ]\n",
      " [0.2 0.8]\n",
      " [0.6 0.4]\n",
      " [0.2 0.8]\n",
      " [0.8 0.2]\n",
      " [0.4 0.6]\n",
      " [1.  0. ]\n",
      " [0.  1. ]\n",
      " [0.6 0.4]\n",
      " [0.2 0.8]\n",
      " [0.4 0.6]\n",
      " [0.4 0.6]\n",
      " [0.4 0.6]\n",
      " [0.8 0.2]\n",
      " [1.  0. ]\n",
      " [0.8 0.2]\n",
      " [1.  0. ]\n",
      " [0.6 0.4]\n",
      " [0.4 0.6]\n",
      " [0.2 0.8]\n",
      " [0.8 0.2]\n",
      " [0.8 0.2]\n",
      " [0.6 0.4]\n",
      " [1.  0. ]\n",
      " [0.8 0.2]\n",
      " [1.  0. ]\n",
      " [0.8 0.2]\n",
      " [0.8 0.2]\n",
      " [0.4 0.6]\n",
      " [0.8 0.2]\n",
      " [0.8 0.2]\n",
      " [1.  0. ]\n",
      " [1.  0. ]\n",
      " [0.6 0.4]\n",
      " [0.8 0.2]\n",
      " [0.2 0.8]\n",
      " [0.8 0.2]\n",
      " [0.4 0.6]\n",
      " [1.  0. ]\n",
      " [0.8 0.2]\n",
      " [0.8 0.2]\n",
      " [1.  0. ]\n",
      " [0.4 0.6]\n",
      " [0.4 0.6]\n",
      " [0.4 0.6]\n",
      " [1.  0. ]\n",
      " [1.  0. ]\n",
      " [0.6 0.4]\n",
      " [0.4 0.6]\n",
      " [1.  0. ]\n",
      " [0.6 0.4]\n",
      " [0.4 0.6]\n",
      " [0.6 0.4]\n",
      " [1.  0. ]\n",
      " [0.8 0.2]\n",
      " [0.8 0.2]\n",
      " [0.8 0.2]\n",
      " [0.6 0.4]\n",
      " [1.  0. ]\n",
      " [0.8 0.2]\n",
      " [0.6 0.4]\n",
      " [0.4 0.6]\n",
      " [1.  0. ]\n",
      " [0.8 0.2]\n",
      " [0.8 0.2]\n",
      " [0.6 0.4]\n",
      " [0.4 0.6]\n",
      " [0.2 0.8]\n",
      " [1.  0. ]\n",
      " [0.4 0.6]\n",
      " [0.6 0.4]\n",
      " [1.  0. ]\n",
      " [0.2 0.8]\n",
      " [0.8 0.2]\n",
      " [1.  0. ]\n",
      " [0.2 0.8]\n",
      " [0.6 0.4]\n",
      " [0.8 0.2]\n",
      " [0.2 0.8]\n",
      " [0.8 0.2]\n",
      " [0.8 0.2]\n",
      " [0.4 0.6]\n",
      " [1.  0. ]]\n"
     ]
    }
   ],
   "source": [
    "print(model.predict_proba(X_test))"
   ]
  },
  {
   "cell_type": "markdown",
   "metadata": {},
   "source": [
    "## Entscheidungsgrenze"
   ]
  },
  {
   "cell_type": "code",
   "execution_count": 7,
   "metadata": {},
   "outputs": [],
   "source": [
    "bmi_min=df[\"BMI\"].min()\n",
    "bmi_max=df[\"BMI\"].max()\n",
    "\n",
    "age_min=df[\"Age\"].min()\n",
    "age_max=df[\"Age\"].max()"
   ]
  },
  {
   "cell_type": "code",
   "execution_count": 12,
   "metadata": {},
   "outputs": [],
   "source": [
    "bmi_range=np.arange(bmi_min, bmi_max, 0.1) \n"
   ]
  },
  {
   "cell_type": "code",
   "execution_count": 13,
   "metadata": {},
   "outputs": [],
   "source": [
    "age_range=np.arange(age_min, age_max, 0.1)"
   ]
  },
  {
   "cell_type": "code",
   "execution_count": 14,
   "metadata": {},
   "outputs": [],
   "source": [
    "xx,yy = np.meshgrid(bmi_range, age_range) #//Erstellt einen Grid "
   ]
  },
  {
   "cell_type": "code",
   "execution_count": 15,
   "metadata": {},
   "outputs": [],
   "source": [
    "X_pred= np.c_[xx.ravel(),yy.ravel()] #// ravel() is the shape as reshape(-1)\n",
    "#c_ combiniert die zwei eindimensionale arrays \n"
   ]
  },
  {
   "cell_type": "code",
   "execution_count": 17,
   "metadata": {},
   "outputs": [],
   "source": [
    "zz=model.predict(X_pred)"
   ]
  },
  {
   "cell_type": "code",
   "execution_count": 19,
   "metadata": {},
   "outputs": [
    {
     "name": "stdout",
     "output_type": "stream",
     "text": [
      "(600, 671)\n",
      "(402600,)\n"
     ]
    }
   ],
   "source": [
    "print(xx.shape)\n",
    "print(zz.shape)  #zz muss in die ursprüngliche Version zurückgewndelt werden"
   ]
  },
  {
   "cell_type": "code",
   "execution_count": 20,
   "metadata": {},
   "outputs": [],
   "source": [
    "zz=zz.reshape(xx.shape) "
   ]
  },
  {
   "cell_type": "code",
   "execution_count": 24,
   "metadata": {},
   "outputs": [
    {
     "data": {
      "text/plain": [
       "<matplotlib.collections.PathCollection at 0x11fbd1250>"
      ]
     },
     "execution_count": 24,
     "metadata": {},
     "output_type": "execute_result"
    },
    {
     "data": {
      "image/png": "[encoded data removed]",
      "text/plain": [
       "<Figure size 432x288 with 1 Axes>"
      ]
     },
     "metadata": {
      "needs_background": "light"
     },
     "output_type": "display_data"
    }
   ],
   "source": [
    "import matplotlib.pyplot as plt\n",
    "\n",
    "plt.contourf(xx,yy,zz, alpha=0.5)\n",
    "plt.scatter(X_train[\"BMI\"], X_train[\"Age\"], c=y_train, s=3) #c-colour s-size"
   ]
  },
  {
   "cell_type": "code",
   "execution_count": 25,
   "metadata": {},
   "outputs": [
    {
     "data": {
      "text/plain": [
       "<matplotlib.collections.PathCollection at 0x11fe25ca0>"
      ]
     },
     "execution_count": 25,
     "metadata": {},
     "output_type": "execute_result"
    },
    {
     "data": {
      "image/png": "[encoded data removed]",
      "text/plain": [
       "<Figure size 432x288 with 1 Axes>"
      ]
     },
     "metadata": {
      "needs_background": "light"
     },
     "output_type": "display_data"
    }
   ],
   "source": [
    "plt.contourf(xx,yy,zz, alpha=0.5)\n",
    "plt.scatter(X_test[\"BMI\"], X_test[\"Age\"], c=y_test, s=3)"
   ]
  },
  {
   "cell_type": "code",
   "execution_count": null,
   "metadata": {},
   "outputs": [],
   "source": []
  }
 ],
 "metadata": {
  "kernelspec": {
   "display_name": "Python 3",
   "language": "python",
   "name": "python3"
  },
  "language_info": {
   "codemirror_mode": {
    "name": "ipython",
    "version": 3
   },
   "file_extension": ".py",
   "mimetype": "text/x-python",
   "name": "python",
   "nbconvert_exporter": "python",
   "pygments_lexer": "ipython3",
   "version": "3.8.5"
  }
 },
 "nbformat": 4,
 "nbformat_minor": 4
}
