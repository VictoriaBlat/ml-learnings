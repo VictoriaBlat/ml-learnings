{
 "cells": [
  {
   "cell_type": "code",
   "execution_count": 3,
   "metadata": {},
   "outputs": [
    {
     "data": {
      "text/plain": [
       "<AxesSubplot:>"
      ]
     },
     "execution_count": 3,
     "metadata": {},
     "output_type": "execute_result"
    },
    {
     "data": {
      "image/png": "[encoded data removed]",
      "text/plain": [
       "<Figure size 432x288 with 1 Axes>"
      ]
     },
     "metadata": {},
     "output_type": "display_data"
    }
   ],
   "source": [
    "import numpy as np\n",
    "import seaborn as sns\n",
    "\n",
    "sns.set()\n",
    "\n",
    "def sigmoid(x):\n",
    "    return 1/(1+np.exp(-x))\n",
    "\n",
    "a=1\n",
    "b=1\n",
    "\n",
    "xs=np.arange(-10,10,0.1)\n",
    "ys=sigmoid(a*xs+b)\n",
    "\n",
    "sns.lineplot(x=xs,y=ys)"
   ]
  },
  {
   "cell_type": "code",
   "execution_count": 5,
   "metadata": {},
   "outputs": [
    {
     "data": {
      "text/html": [
       "<div>\n",
       "<style scoped>\n",
       "    .dataframe tbody tr th:only-of-type {\n",
       "        vertical-align: middle;\n",
       "    }\n",
       "\n",
       "    .dataframe tbody tr th {\n",
       "        vertical-align: top;\n",
       "    }\n",
       "\n",
       "    .dataframe thead th {\n",
       "        text-align: right;\n",
       "    }\n",
       "</style>\n",
       "<table border=\"1\" class=\"dataframe\">\n",
       "  <thead>\n",
       "    <tr style=\"text-align: right;\">\n",
       "      <th></th>\n",
       "      <th>Pregnancies</th>\n",
       "      <th>Glucose</th>\n",
       "      <th>BloodPressure</th>\n",
       "      <th>SkinThickness</th>\n",
       "      <th>Insulin</th>\n",
       "      <th>BMI</th>\n",
       "      <th>DiabetesPedigreeFunction</th>\n",
       "      <th>Age</th>\n",
       "      <th>Outcome</th>\n",
       "    </tr>\n",
       "  </thead>\n",
       "  <tbody>\n",
       "    <tr>\n",
       "      <th>0</th>\n",
       "      <td>6</td>\n",
       "      <td>148</td>\n",
       "      <td>72</td>\n",
       "      <td>35</td>\n",
       "      <td>0</td>\n",
       "      <td>33.6</td>\n",
       "      <td>0.627</td>\n",
       "      <td>50</td>\n",
       "      <td>1</td>\n",
       "    </tr>\n",
       "    <tr>\n",
       "      <th>1</th>\n",
       "      <td>1</td>\n",
       "      <td>85</td>\n",
       "      <td>66</td>\n",
       "      <td>29</td>\n",
       "      <td>0</td>\n",
       "      <td>26.6</td>\n",
       "      <td>0.351</td>\n",
       "      <td>31</td>\n",
       "      <td>0</td>\n",
       "    </tr>\n",
       "    <tr>\n",
       "      <th>2</th>\n",
       "      <td>8</td>\n",
       "      <td>183</td>\n",
       "      <td>64</td>\n",
       "      <td>0</td>\n",
       "      <td>0</td>\n",
       "      <td>23.3</td>\n",
       "      <td>0.672</td>\n",
       "      <td>32</td>\n",
       "      <td>1</td>\n",
       "    </tr>\n",
       "    <tr>\n",
       "      <th>3</th>\n",
       "      <td>1</td>\n",
       "      <td>89</td>\n",
       "      <td>66</td>\n",
       "      <td>23</td>\n",
       "      <td>94</td>\n",
       "      <td>28.1</td>\n",
       "      <td>0.167</td>\n",
       "      <td>21</td>\n",
       "      <td>0</td>\n",
       "    </tr>\n",
       "    <tr>\n",
       "      <th>4</th>\n",
       "      <td>0</td>\n",
       "      <td>137</td>\n",
       "      <td>40</td>\n",
       "      <td>35</td>\n",
       "      <td>168</td>\n",
       "      <td>43.1</td>\n",
       "      <td>2.288</td>\n",
       "      <td>33</td>\n",
       "      <td>1</td>\n",
       "    </tr>\n",
       "  </tbody>\n",
       "</table>\n",
       "</div>"
      ],
      "text/plain": [
       "   Pregnancies  Glucose  BloodPressure  SkinThickness  Insulin   BMI  \\\n",
       "0            6      148             72             35        0  33.6   \n",
       "1            1       85             66             29        0  26.6   \n",
       "2            8      183             64              0        0  23.3   \n",
       "3            1       89             66             23       94  28.1   \n",
       "4            0      137             40             35      168  43.1   \n",
       "\n",
       "   DiabetesPedigreeFunction  Age  Outcome  \n",
       "0                     0.627   50        1  \n",
       "1                     0.351   31        0  \n",
       "2                     0.672   32        1  \n",
       "3                     0.167   21        0  \n",
       "4                     2.288   33        1  "
      ]
     },
     "execution_count": 5,
     "metadata": {},
     "output_type": "execute_result"
    }
   ],
   "source": [
    "import pandas as pd\n",
    "df=pd.read_csv(\"../data/Diabetes/diabetes.csv\")\n",
    "df.head()"
   ]
  },
  {
   "cell_type": "code",
   "execution_count": 6,
   "metadata": {},
   "outputs": [
    {
     "name": "stdout",
     "output_type": "stream",
     "text": [
      "768\n"
     ]
    }
   ],
   "source": [
    "print(len(df))"
   ]
  },
  {
   "cell_type": "code",
   "execution_count": 7,
   "metadata": {},
   "outputs": [
    {
     "data": {
      "text/plain": [
       "LogisticRegression()"
      ]
     },
     "execution_count": 7,
     "metadata": {},
     "output_type": "execute_result"
    }
   ],
   "source": [
    "from sklearn.linear_model import LogisticRegression\n",
    "from sklearn.model_selection import train_test_split\n",
    "\n",
    "\n",
    "X=df[[\"BMI\",\"Age\"]]\n",
    "y=df[\"Outcome\"]\n",
    "\n",
    "X_train, X_test, y_train, y_test =train_test_split(X,y, train_size=0.75)\n",
    "model= LogisticRegression()\n",
    "model.fit(X_train,y_train)"
   ]
  },
  {
   "cell_type": "code",
   "execution_count": 8,
   "metadata": {},
   "outputs": [
    {
     "name": "stdout",
     "output_type": "stream",
     "text": [
      "[1 0 0 0 0 0 0 0 1 1 1 0 0 0 0 0 1 1 1 0 1 0 0 0 0 0 1 0 0 0 1 0 0 0 0 0 0\n",
      " 0 0 0 0 0 0 0 1 0 0 1 0 1 1 0 0 0 0 0 0 0 0 0 0 0 0 0 0 0 0 0 1 1 0 0 0 0\n",
      " 1 1 0 0 0 0 0 0 0 0 0 1 0 1 0 1 0 0 0 0 1 0 0 0 0 0 1 0 0 0 1 1 0 0 1 0 0\n",
      " 1 0 0 0 0 0 1 1 0 0 1 1 0 0 0 0 0 0 0 0 0 0 1 0 1 0 0 0 1 0 0 0 0 0 1 0 0\n",
      " 0 0 1 0 0 0 0 1 1 0 0 0 0 0 0 0 0 1 0 0 1 0 0 0 0 0 0 0 0 1 0 0 0 0 1 1 0\n",
      " 0 0 0 0 1 0 0]\n"
     ]
    }
   ],
   "source": [
    "print(model.predict(X_test))"
   ]
  },
  {
   "cell_type": "code",
   "execution_count": 9,
   "metadata": {},
   "outputs": [
    {
     "name": "stdout",
     "output_type": "stream",
     "text": [
      "0.6979166666666666\n"
     ]
    }
   ],
   "source": [
    "print(model.score(X_test,y_test))"
   ]
  },
  {
   "cell_type": "code",
   "execution_count": 10,
   "metadata": {},
   "outputs": [
    {
     "data": {
      "text/plain": [
       "array([[0.17657831, 0.82342169],\n",
       "       [0.88664283, 0.11335717],\n",
       "       [0.55070102, 0.44929898],\n",
       "       [0.5157143 , 0.4842857 ],\n",
       "       [0.59798853, 0.40201147],\n",
       "       [0.58792393, 0.41207607],\n",
       "       [0.63135248, 0.36864752],\n",
       "       [0.79667511, 0.20332489],\n",
       "       [0.41061263, 0.58938737],\n",
       "       [0.325185  , 0.674815  ],\n",
       "       [0.21707296, 0.78292704],\n",
       "       [0.80305783, 0.19694217],\n",
       "       [0.84906039, 0.15093961],\n",
       "       [0.50377217, 0.49622783],\n",
       "       [0.98525796, 0.01474204],\n",
       "       [0.62044801, 0.37955199],\n",
       "       [0.21133546, 0.78866454],\n",
       "       [0.38351242, 0.61648758],\n",
       "       [0.45549348, 0.54450652],\n",
       "       [0.54414044, 0.45585956],\n",
       "       [0.34760181, 0.65239819],\n",
       "       [0.84411922, 0.15588078],\n",
       "       [0.7024823 , 0.2975177 ],\n",
       "       [0.81518316, 0.18481684],\n",
       "       [0.65756666, 0.34243334],\n",
       "       [0.82923756, 0.17076244],\n",
       "       [0.47874932, 0.52125068],\n",
       "       [0.67342052, 0.32657948],\n",
       "       [0.89156409, 0.10843591],\n",
       "       [0.5567183 , 0.4432817 ],\n",
       "       [0.39909861, 0.60090139],\n",
       "       [0.67442369, 0.32557631],\n",
       "       [0.71336926, 0.28663074],\n",
       "       [0.7704784 , 0.2295216 ],\n",
       "       [0.83548039, 0.16451961],\n",
       "       [0.85111623, 0.14888377],\n",
       "       [0.91115349, 0.08884651],\n",
       "       [0.85613609, 0.14386391],\n",
       "       [0.79819944, 0.20180056],\n",
       "       [0.80554918, 0.19445082],\n",
       "       [0.83929348, 0.16070652],\n",
       "       [0.54934551, 0.45065449],\n",
       "       [0.63113956, 0.36886044],\n",
       "       [0.86786154, 0.13213846],\n",
       "       [0.49867391, 0.50132609],\n",
       "       [0.79800307, 0.20199693],\n",
       "       [0.68718835, 0.31281165],\n",
       "       [0.25010699, 0.74989301],\n",
       "       [0.61289309, 0.38710691],\n",
       "       [0.36040877, 0.63959123],\n",
       "       [0.2681578 , 0.7318422 ],\n",
       "       [0.61347119, 0.38652881],\n",
       "       [0.80933506, 0.19066494],\n",
       "       [0.65715525, 0.34284475],\n",
       "       [0.7863803 , 0.2136197 ],\n",
       "       [0.8757184 , 0.1242816 ],\n",
       "       [0.68410498, 0.31589502],\n",
       "       [0.54730948, 0.45269052],\n",
       "       [0.53112685, 0.46887315],\n",
       "       [0.71131099, 0.28868901],\n",
       "       [0.81246216, 0.18753784],\n",
       "       [0.83121112, 0.16878888],\n",
       "       [0.87059482, 0.12940518],\n",
       "       [0.87462105, 0.12537895],\n",
       "       [0.64853303, 0.35146697],\n",
       "       [0.72389286, 0.27610714],\n",
       "       [0.53135463, 0.46864537],\n",
       "       [0.62008938, 0.37991062],\n",
       "       [0.49357593, 0.50642407],\n",
       "       [0.37927604, 0.62072396],\n",
       "       [0.85837087, 0.14162913],\n",
       "       [0.69646805, 0.30353195],\n",
       "       [0.50742411, 0.49257589],\n",
       "       [0.72310125, 0.27689875],\n",
       "       [0.42014785, 0.57985215],\n",
       "       [0.20362803, 0.79637197],\n",
       "       [0.64191349, 0.35808651],\n",
       "       [0.55814514, 0.44185486],\n",
       "       [0.8446392 , 0.1553608 ],\n",
       "       [0.7843279 , 0.2156721 ],\n",
       "       [0.57235627, 0.42764373],\n",
       "       [0.69704665, 0.30295335],\n",
       "       [0.82558638, 0.17441362],\n",
       "       [0.66472666, 0.33527334],\n",
       "       [0.85390997, 0.14609003],\n",
       "       [0.36773786, 0.63226214],\n",
       "       [0.81637253, 0.18362747],\n",
       "       [0.37684277, 0.62315723],\n",
       "       [0.8768075 , 0.1231925 ],\n",
       "       [0.36773786, 0.63226214],\n",
       "       [0.69025525, 0.30974475],\n",
       "       [0.52794153, 0.47205847],\n",
       "       [0.73334163, 0.26665837],\n",
       "       [0.60659188, 0.39340812],\n",
       "       [0.42289361, 0.57710639],\n",
       "       [0.82646122, 0.17353878],\n",
       "       [0.71124857, 0.28875143],\n",
       "       [0.56279378, 0.43720622],\n",
       "       [0.90002696, 0.09997304],\n",
       "       [0.51145643, 0.48854357],\n",
       "       [0.29328224, 0.70671776],\n",
       "       [0.63085581, 0.36914419],\n",
       "       [0.9251865 , 0.0748135 ],\n",
       "       [0.90802482, 0.09197518],\n",
       "       [0.29366097, 0.70633903],\n",
       "       [0.49289074, 0.50710926],\n",
       "       [0.71863027, 0.28136973],\n",
       "       [0.59945111, 0.40054889],\n",
       "       [0.35224076, 0.64775924],\n",
       "       [0.52642413, 0.47357587],\n",
       "       [0.55446333, 0.44553667],\n",
       "       [0.19849425, 0.80150575],\n",
       "       [0.86365208, 0.13634792],\n",
       "       [0.65756666, 0.34243334],\n",
       "       [0.70254583, 0.29745417],\n",
       "       [0.63925029, 0.36074971],\n",
       "       [0.77219642, 0.22780358],\n",
       "       [0.07325148, 0.92674852],\n",
       "       [0.33210237, 0.66789763],\n",
       "       [0.63601509, 0.36398491],\n",
       "       [0.91972354, 0.08027646],\n",
       "       [0.42155753, 0.57844247],\n",
       "       [0.39807717, 0.60192283],\n",
       "       [0.74467086, 0.25532914],\n",
       "       [0.8648306 , 0.1351694 ],\n",
       "       [0.75635295, 0.24364705],\n",
       "       [0.73334163, 0.26665837],\n",
       "       [0.84929433, 0.15070567],\n",
       "       [0.53605014, 0.46394986],\n",
       "       [0.55979573, 0.44020427],\n",
       "       [0.94817874, 0.05182126],\n",
       "       [0.78912837, 0.21087163],\n",
       "       [0.55476435, 0.44523565],\n",
       "       [0.41385723, 0.58614277],\n",
       "       [0.88581422, 0.11418578],\n",
       "       [0.41385792, 0.58614208],\n",
       "       [0.84307502, 0.15692498],\n",
       "       [0.56159538, 0.43840462],\n",
       "       [0.59659737, 0.40340263],\n",
       "       [0.49030432, 0.50969568],\n",
       "       [0.8563983 , 0.1436017 ],\n",
       "       [0.57019391, 0.42980609],\n",
       "       [0.82120461, 0.17879539],\n",
       "       [0.59696376, 0.40303624],\n",
       "       [0.82267469, 0.17732531],\n",
       "       [0.43646786, 0.56353214],\n",
       "       [0.54179867, 0.45820133],\n",
       "       [0.81125331, 0.18874669],\n",
       "       [0.76368076, 0.23631924],\n",
       "       [0.63396943, 0.36603057],\n",
       "       [0.4919017 , 0.5080983 ],\n",
       "       [0.78220947, 0.21779053],\n",
       "       [0.79637908, 0.20362092],\n",
       "       [0.70241877, 0.29758123],\n",
       "       [0.73966187, 0.26033813],\n",
       "       [0.49410848, 0.50589152],\n",
       "       [0.32491825, 0.67508175],\n",
       "       [0.71324494, 0.28675506],\n",
       "       [0.80597776, 0.19402224],\n",
       "       [0.78370931, 0.21629069],\n",
       "       [0.87014837, 0.12985163],\n",
       "       [0.76169769, 0.23830231],\n",
       "       [0.69621037, 0.30378963],\n",
       "       [0.56877592, 0.43122408],\n",
       "       [0.71745933, 0.28254067],\n",
       "       [0.43078689, 0.56921311],\n",
       "       [0.81213732, 0.18786268],\n",
       "       [0.53203579, 0.46796421],\n",
       "       [0.40150994, 0.59849006],\n",
       "       [0.73029484, 0.26970516],\n",
       "       [0.78334795, 0.21665205],\n",
       "       [0.67275045, 0.32724955],\n",
       "       [0.7133071 , 0.2866929 ],\n",
       "       [0.51145573, 0.48854427],\n",
       "       [0.91068418, 0.08931582],\n",
       "       [0.5832708 , 0.4167292 ],\n",
       "       [0.77745376, 0.22254624],\n",
       "       [0.2028883 , 0.7971117 ],\n",
       "       [0.88963642, 0.11036358],\n",
       "       [0.61086925, 0.38913075],\n",
       "       [0.57533367, 0.42466633],\n",
       "       [0.55987063, 0.44012937],\n",
       "       [0.37956232, 0.62043768],\n",
       "       [0.31086122, 0.68913878],\n",
       "       [0.91515975, 0.08484025],\n",
       "       [0.88879691, 0.11120309],\n",
       "       [0.54738478, 0.45261522],\n",
       "       [0.54225209, 0.45774791],\n",
       "       [0.65005767, 0.34994233],\n",
       "       [0.28008857, 0.71991143],\n",
       "       [0.5101631 , 0.4898369 ],\n",
       "       [0.51084741, 0.48915259]])"
      ]
     },
     "execution_count": 10,
     "metadata": {},
     "output_type": "execute_result"
    }
   ],
   "source": [
    "model.predict_proba(X_test)"
   ]
  },
  {
   "cell_type": "markdown",
   "metadata": {},
   "source": [
    "## Fehlerarten"
   ]
  },
  {
   "cell_type": "markdown",
   "metadata": {},
   "source": [
    "### Confusion Matrix"
   ]
  },
  {
   "cell_type": "code",
   "execution_count": 11,
   "metadata": {},
   "outputs": [],
   "source": [
    "y_test_pred=model.predict(X_test)"
   ]
  },
  {
   "cell_type": "code",
   "execution_count": 12,
   "metadata": {},
   "outputs": [
    {
     "data": {
      "text/plain": [
       "array([1, 0, 0, 0, 0, 0, 0, 0, 1, 1, 1, 0, 0, 0, 0, 0, 1, 1, 1, 0, 1, 0,\n",
       "       0, 0, 0, 0, 1, 0, 0, 0, 1, 0, 0, 0, 0, 0, 0, 0, 0, 0, 0, 0, 0, 0,\n",
       "       1, 0, 0, 1, 0, 1, 1, 0, 0, 0, 0, 0, 0, 0, 0, 0, 0, 0, 0, 0, 0, 0,\n",
       "       0, 0, 1, 1, 0, 0, 0, 0, 1, 1, 0, 0, 0, 0, 0, 0, 0, 0, 0, 1, 0, 1,\n",
       "       0, 1, 0, 0, 0, 0, 1, 0, 0, 0, 0, 0, 1, 0, 0, 0, 1, 1, 0, 0, 1, 0,\n",
       "       0, 1, 0, 0, 0, 0, 0, 1, 1, 0, 0, 1, 1, 0, 0, 0, 0, 0, 0, 0, 0, 0,\n",
       "       0, 1, 0, 1, 0, 0, 0, 1, 0, 0, 0, 0, 0, 1, 0, 0, 0, 0, 1, 0, 0, 0,\n",
       "       0, 1, 1, 0, 0, 0, 0, 0, 0, 0, 0, 1, 0, 0, 1, 0, 0, 0, 0, 0, 0, 0,\n",
       "       0, 1, 0, 0, 0, 0, 1, 1, 0, 0, 0, 0, 0, 1, 0, 0])"
      ]
     },
     "execution_count": 12,
     "metadata": {},
     "output_type": "execute_result"
    }
   ],
   "source": [
    "y_test_pred"
   ]
  },
  {
   "cell_type": "code",
   "execution_count": 14,
   "metadata": {},
   "outputs": [],
   "source": [
    "from sklearn.metrics import confusion_matrix\n",
    "from sklearn.metrics import plot_confusion_matrix"
   ]
  },
  {
   "cell_type": "code",
   "execution_count": 15,
   "metadata": {},
   "outputs": [
    {
     "data": {
      "text/plain": [
       "array([[113,  23],\n",
       "       [ 35,  21]])"
      ]
     },
     "execution_count": 15,
     "metadata": {},
     "output_type": "execute_result"
    }
   ],
   "source": [
    "confusion_matrix(y_test, y_test_pred)"
   ]
  },
  {
   "cell_type": "code",
   "execution_count": 17,
   "metadata": {},
   "outputs": [
    {
     "data": {
      "text/plain": [
       "<sklearn.metrics._plot.confusion_matrix.ConfusionMatrixDisplay at 0x11edff2b0>"
      ]
     },
     "execution_count": 17,
     "metadata": {},
     "output_type": "execute_result"
    },
    {
     "data": {
      "image/png": "[encoded data removed]",
      "text/plain": [
       "<Figure size 432x288 with 2 Axes>"
      ]
     },
     "metadata": {},
     "output_type": "display_data"
    }
   ],
   "source": [
    "plot_confusion_matrix(model, X_test, y_test, normalize=\"all\")"
   ]
  },
  {
   "cell_type": "markdown",
   "metadata": {},
   "source": [
    "## Precision und Recal"
   ]
  },
  {
   "cell_type": "markdown",
   "metadata": {},
   "source": [
    "#### Recall niedrig bei Gerichturteilen, hoch bei Krebserkrankungen (lieber eine zu wenig diagnistizieren als zu wneig) //Quantität optomierung\n",
    "#### Precision hoch bei Gerichturteilen,niedrig bei Krebserkrankungen //Qualitiät optomierung"
   ]
  },
  {
   "cell_type": "code",
   "execution_count": 22,
   "metadata": {},
   "outputs": [],
   "source": [
    "from sklearn.metrics import recall_score\n",
    "from sklearn.metrics import precision_score\n"
   ]
  },
  {
   "cell_type": "code",
   "execution_count": 20,
   "metadata": {},
   "outputs": [
    {
     "data": {
      "text/plain": [
       "0.375"
      ]
     },
     "execution_count": 20,
     "metadata": {},
     "output_type": "execute_result"
    }
   ],
   "source": [
    "recall_score(y_test,y_test_pred)"
   ]
  },
  {
   "cell_type": "code",
   "execution_count": 23,
   "metadata": {},
   "outputs": [
    {
     "data": {
      "text/plain": [
       "0.4772727272727273"
      ]
     },
     "execution_count": 23,
     "metadata": {},
     "output_type": "execute_result"
    }
   ],
   "source": [
    "precision_score(y_test,y_test_pred)"
   ]
  },
  {
   "cell_type": "markdown",
   "metadata": {},
   "source": [
    "## Klassen unterschiedlich gewichten\n"
   ]
  },
  {
   "cell_type": "code",
   "execution_count": 33,
   "metadata": {},
   "outputs": [
    {
     "name": "stdout",
     "output_type": "stream",
     "text": [
      "precision: 0.6724137931034483\n",
      "recall: 0.5492957746478874\n"
     ]
    },
    {
     "data": {
      "text/plain": [
       "<sklearn.metrics._plot.confusion_matrix.ConfusionMatrixDisplay at 0x11f88bf70>"
      ]
     },
     "execution_count": 33,
     "metadata": {},
     "output_type": "execute_result"
    },
    {
     "data": {
      "image/png": "[encoded data removed]",
      "text/plain": [
       "<Figure size 432x288 with 2 Axes>"
      ]
     },
     "metadata": {},
     "output_type": "display_data"
    }
   ],
   "source": [
    "df=pd.read_csv(\"../data/Diabetes/diabetes.csv\")\n",
    "X=df[[\"BMI\",\"Age\",\"Glucose\",\"BloodPressure\"]]\n",
    "y=df[\"Outcome\"]\n",
    "\n",
    "X_train, X_test, y_train, y_test =train_test_split(X,y, train_size=0.75)\n",
    "model= LogisticRegression(class_weight={0:1,1:1})  # weights are put into the class weight\n",
    "model.fit(X_train,y_train)\n",
    "\n",
    "\n",
    "\n",
    "y_test_pred=model.predict(X_test)\n",
    "precision=precision_score(y_test,y_test_pred)\n",
    "recall=recall_score(y_test, y_test_pred)\n",
    "\n",
    "print(\"precision:\", str(precision))\n",
    "print(\"recall:\", str(recall))  #recall 1 wird bedeuten dass alle kranken einen positiven test ergebniss \n",
    "#bekommen werden, allerdings viele gesunden auch(wenn die precission niedrig ist)\n",
    "\n",
    "plot_confusion_matrix(model, X_test,y_test, normalize=\"all\")"
   ]
  },
  {
   "cell_type": "code",
   "execution_count": 28,
   "metadata": {},
   "outputs": [
    {
     "data": {
      "text/html": [
       "<div>\n",
       "<style scoped>\n",
       "    .dataframe tbody tr th:only-of-type {\n",
       "        vertical-align: middle;\n",
       "    }\n",
       "\n",
       "    .dataframe tbody tr th {\n",
       "        vertical-align: top;\n",
       "    }\n",
       "\n",
       "    .dataframe thead th {\n",
       "        text-align: right;\n",
       "    }\n",
       "</style>\n",
       "<table border=\"1\" class=\"dataframe\">\n",
       "  <thead>\n",
       "    <tr style=\"text-align: right;\">\n",
       "      <th></th>\n",
       "      <th>c</th>\n",
       "    </tr>\n",
       "    <tr>\n",
       "      <th>Outcome</th>\n",
       "      <th></th>\n",
       "    </tr>\n",
       "  </thead>\n",
       "  <tbody>\n",
       "    <tr>\n",
       "      <th>0</th>\n",
       "      <td>500</td>\n",
       "    </tr>\n",
       "    <tr>\n",
       "      <th>1</th>\n",
       "      <td>268</td>\n",
       "    </tr>\n",
       "  </tbody>\n",
       "</table>\n",
       "</div>"
      ],
      "text/plain": [
       "           c\n",
       "Outcome     \n",
       "0        500\n",
       "1        268"
      ]
     },
     "execution_count": 28,
     "metadata": {},
     "output_type": "execute_result"
    }
   ],
   "source": [
    "##die unterschieldichne Gewichte kann mann auch dann verwenden wenn wir unbalansierte klassen haben:\n",
    "\n",
    "df.groupby(\"Outcome\").agg(c=(\"Age\",len))"
   ]
  },
  {
   "cell_type": "code",
   "execution_count": 29,
   "metadata": {},
   "outputs": [],
   "source": [
    "#eg: class_weight={0:1/500,1:1/268} oder class_weight=\"balaced\""
   ]
  },
  {
   "cell_type": "code",
   "execution_count": 30,
   "metadata": {},
   "outputs": [],
   "source": [
    "####another way, we can say that a probablility of higher than 30%is signifikant"
   ]
  },
  {
   "cell_type": "code",
   "execution_count": 35,
   "metadata": {},
   "outputs": [
    {
     "data": {
      "text/plain": [
       "array([ True, False, False,  True, False,  True,  True, False, False,\n",
       "       False, False, False,  True,  True, False,  True, False,  True,\n",
       "       False, False, False,  True, False,  True,  True, False, False,\n",
       "       False,  True, False, False,  True,  True, False,  True,  True,\n",
       "        True, False, False, False, False,  True, False, False, False,\n",
       "        True, False,  True,  True,  True, False, False, False,  True,\n",
       "       False, False, False, False,  True, False,  True, False, False,\n",
       "       False,  True,  True, False, False,  True, False, False, False,\n",
       "       False, False, False, False,  True, False,  True, False,  True,\n",
       "       False, False,  True, False, False, False, False,  True, False,\n",
       "        True,  True,  True,  True,  True,  True, False,  True,  True,\n",
       "       False, False,  True, False, False, False, False,  True,  True,\n",
       "        True, False, False,  True, False,  True, False, False, False,\n",
       "        True,  True, False, False,  True,  True, False, False,  True,\n",
       "       False, False,  True,  True,  True, False,  True,  True, False,\n",
       "       False,  True,  True,  True, False,  True,  True, False, False,\n",
       "        True, False, False, False, False,  True, False, False,  True,\n",
       "        True,  True, False, False, False, False,  True,  True, False,\n",
       "        True, False, False, False, False, False, False,  True, False,\n",
       "       False, False, False, False, False,  True,  True, False, False,\n",
       "        True,  True, False,  True,  True,  True, False,  True,  True,\n",
       "        True, False, False])"
      ]
     },
     "execution_count": 35,
     "metadata": {},
     "output_type": "execute_result"
    }
   ],
   "source": [
    "model.predict_proba(X_test)[:,1]>=0.3"
   ]
  },
  {
   "cell_type": "code",
   "execution_count": null,
   "metadata": {},
   "outputs": [],
   "source": []
  }
 ],
 "metadata": {
  "kernelspec": {
   "display_name": "Python 3",
   "language": "python",
   "name": "python3"
  },
  "language_info": {
   "codemirror_mode": {
    "name": "ipython",
    "version": 3
   },
   "file_extension": ".py",
   "mimetype": "text/x-python",
   "name": "python",
   "nbconvert_exporter": "python",
   "pygments_lexer": "ipython3",
   "version": "3.8.5"
  }
 },
 "nbformat": 4,
 "nbformat_minor": 4
}
